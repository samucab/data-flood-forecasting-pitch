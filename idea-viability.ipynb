{
 "cells": [
  {
   "cell_type": "markdown",
   "metadata": {
    "slideshow": {
     "slide_type": "slide"
    }
   },
   "source": [
    "# **1. Forecasting urban floods**\n",
    "\n",
    "*pitched by Samuel Barsanelli Costa | ```Data Science batch #1643```*"
   ]
  },
  {
   "cell_type": "markdown",
   "metadata": {
    "slideshow": {
     "slide_type": "slide"
    }
   },
   "source": [
    "## **1.1. Problem statement**"
   ]
  },
  {
   "cell_type": "markdown",
   "metadata": {
    "slideshow": {
     "slide_type": "subslide"
    }
   },
   "source": [
    "What is an urban flood and why should we care about forecasting it?\n",
    "\n",
    "📽️ A picture is worth a thousand words...\n",
    "\n",
    "<iframe width=\"600\" height=\"339\"\n",
    "src=\"https://www.youtube.com/embed/qefFjVbrZwE?autoplay=1&mute=1\">\n",
    "</iframe>"
   ]
  },
  {
   "cell_type": "markdown",
   "metadata": {
    "slideshow": {
     "slide_type": "subslide"
    }
   },
   "source": [
    "This is a global issue related to climate change, as raised by the [UN](https://www.undrr.org/)'s [GAR23](https://www.undrr.org/gar/gar2023-special-report) report:\n",
    "* the increase in the intensity of rainfall is already increasing flood risk 🌧️\n",
    "* flood damage shall increase by **170%** with a global **2°C warming** 🔥\n",
    "\n",
    "Additional regional conditions may intensify this effects, such as the El Niño that triggered [unprecedented flooding in the southern Brazilian state of Rio Grande do Sul](https://wmo.int/media/news/el-nino-linked-rains-trigger-devastation-brazil).\n",
    "\n",
    "🌎 With the best **think globally, act locally** spirit in mind, this idea is scoped to predict flood in São Leopoldo/RS, Brazil, one among the most affected cities in the Porto Alegre Metro Area during the flooding events of May 2024."
   ]
  },
  {
   "cell_type": "markdown",
   "metadata": {
    "slideshow": {
     "slide_type": "subslide"
    }
   },
   "source": [
    "🌶 From a data science perpective, flood prediction is a hot topic. The [Journal of Hydrology](https://www.sciencedirect.com/journal/journal-of-hydrology) alone has over 5k papers about it. Even Google has it's own AI model to predict flood. They've published their approach in a must-read [paper](https://www.nature.com/articles/s41586-024-07145-1) in Nature, and made their findings available at [Flood Hub](https://sites.research.google/floods/l/0/0/3) for 80+ countries.\n",
    "\n",
    "🧠 The vast majority of the research applies **RNN-LSTM** models for flood predictions.\n",
    "\n",
    "![https://sites.research.google/floods/](google_flood_hub.jpg)"
   ]
  },
  {
   "cell_type": "markdown",
   "metadata": {
    "slideshow": {
     "slide_type": "subslide"
    }
   },
   "source": [
    "But all resources available about flooding are way too much technical, not suited for the general public.\n",
    "\n",
    "🤔 Could you quickly disgest this [data plot](https://app.powerbi.com/view?r=eyJrIjoiZTRjZDlmYjgtNzAzMS00ZTFmLTlmZDAtNzEwNjM0MDU0NTJhIiwidCI6ImUwYmI0MDEyLTgxMGItNDY5YS04YjRkLTY2N2ZjZDFiYWY4OCJ9) and make an informed \"fight-or-flight\" decision if you should stay or run away from this flood risk area?\n",
    "\n",
    "![https://app.powerbi.com/view?r=eyJrIjoiZTRjZDlmYjgtNzAzMS00ZTFmLTlmZDAtNzEwNjM0MDU0NTJhIiwidCI6ImUwYmI0MDEyLTgxMGItNDY5YS04YjRkLTY2N2ZjZDFiYWY4OCJ9](guaiba_telemetry.jpg)"
   ]
  },
  {
   "cell_type": "markdown",
   "metadata": {
    "slideshow": {
     "slide_type": "subslide"
    }
   },
   "source": [
    "🤓 What if we train a model and make it a **near real-time forescat web-app**, with very easy-to-digest info just like weather forecasts?\n",
    "\n",
    "💪 Let's code this together!\n",
    "\n",
    "\n",
    "<html>\n",
    "<head>\n",
    "<style>\n",
    "img {\n",
    "  width: 100%;\n",
    "}\n",
    "</style>\n",
    "</head>\n",
    "<body>\n",
    "\n",
    "<img src=\"flood_forecast_app.jpg\" alt=\"What if the flood forecast was like this?\" style=\"width:700px;\">\n",
    "\n",
    "</body>\n",
    "</html>"
   ]
  },
  {
   "cell_type": "markdown",
   "metadata": {
    "slideshow": {
     "slide_type": "slide"
    }
   },
   "source": [
    "## **1.2. Data sources**"
   ]
  },
  {
   "cell_type": "markdown",
   "metadata": {
    "slideshow": {
     "slide_type": "subslide"
    }
   },
   "source": [
    " To address this problem we'll need, at least:\n",
    "\n",
    "* **river stage data**: the measure of the water level of a river (usually measured in cm). This will be our ```y```\n",
    "* **historical rainfall data**: the amount of rainfall at a certain location (usually measured in mm). This will be our ```X```.\n",
    "* **future rainfall data**: rain forecast. This will be our ```X``` to get the ```y_pred```.\n",
    "* **meteorological data**: additional meaninfull ```X```s such as air temperature, surface pressure, soil moisture at different depths, wind speed and solar radiance.\n",
    "\n",
    "Automated Telemetry Stations comes out to be the best source for ground-truth river and rain data, as they continuosly collect data at a certain timeframe (usually every 15 min). Additional meteorological data might be derived from global weather forecast models."
   ]
  },
  {
   "cell_type": "markdown",
   "metadata": {
    "slideshow": {
     "slide_type": "subslide"
    }
   },
   "source": [
    "❗**Relevant info regarding rain data sourcing**❗\n",
    "\n",
    "* Rain data is the most relevant exougenous variable for flood prediction.\n",
    "* But rainfall is not well represented by a single point-source.\n",
    "* See the picture bellow: all rain from up in the mountains will, at some point in time, flow downhill and hit the lowest point, hence contributing to a flood.\n",
    "* So the more rainfall stations we collect data from within the contributing are, the best!\n",
    "\n",
    "<html>\n",
    "<head>\n",
    "<style>\n",
    "img {\n",
    "  width: 100%;\n",
    "}\n",
    "</style>\n",
    "</head>\n",
    "<body>\n",
    "\n",
    "<img src=\"https://elbowlakecentre.ca/wp-content/uploads/2023/11/Picture1-4.png.webp\" alt=\"https://elbowlakecentre.ca/wp-content/uploads/2023/11/Picture1-4.png.webp\" style=\"width:400px;\">\n",
    "\n",
    "</body>\n",
    "</html>"
   ]
  },
  {
   "cell_type": "markdown",
   "metadata": {
    "slideshow": {
     "slide_type": "subslide"
    }
   },
   "source": [
    "In order to predict flood at São Leopoldo/RS, Brazil (the ❗ on the map), besides the river stage data (```y```) and rain data (```X```) from the very location of the flood, we'll take advantage of other six rain stations distributed over it's drainage area (the 🌧 on the map).\n",
    "\n",
    "\n",
    "<html>\n",
    "<head>\n",
    "<style>\n",
    "img {\n",
    "  width: 100%;\n",
    "}\n",
    "</style>\n",
    "</head>\n",
    "<body>\n",
    "\n",
    "<img src=\"data_sources.jpg\" style=\"width:600px;\">\n",
    "\n",
    "</body>\n",
    "</html>"
   ]
  },
  {
   "cell_type": "markdown",
   "metadata": {
    "slideshow": {
     "slide_type": "subslide"
    }
   },
   "source": [
    "Here are the data sources details to be downloaded.\n",
    "\n",
    "| Data | Source | Format | Sampling rate | Time span | Raw data files |\n",
    "|------|--------|--------|---------------|-----------|----------------|\n",
    "| River stage | [SEMA/RS](https://saladesituacao.rs.gov.br/dados) | xls | 15 min  | 2018 on |[river_rain_data.zip](https://drive.google.com/file/d/1lOX845O653rK7Onz0AWZzmelre_IaNRi/view?usp=sharing) |\n",
    "| Rainfall | [SEMA/RS](https://saladesituacao.rs.gov.br/dados) | xls | 15 min | 2018 on |  👆 *same as above* |\n",
    "| Rain forescast and meteo data | [Open-Meteo](https://open-meteo.com/en/docs) | API | 1 hour | 1940 up to next 5 days | [historical_meteo_data.zip](https://drive.google.com/file/d/1YArQyT5vuFqmv5xQpckYz8Cxc5-UFaOg/view?usp=sharing) |"
   ]
  },
  {
   "cell_type": "code",
   "execution_count": 2,
   "metadata": {
    "slideshow": {
     "slide_type": "skip"
    }
   },
   "outputs": [
    {
     "data": {
      "text/html": [
       "<div>\n",
       "<style scoped>\n",
       "    .dataframe tbody tr th:only-of-type {\n",
       "        vertical-align: middle;\n",
       "    }\n",
       "\n",
       "    .dataframe tbody tr th {\n",
       "        vertical-align: top;\n",
       "    }\n",
       "\n",
       "    .dataframe thead th {\n",
       "        text-align: right;\n",
       "    }\n",
       "</style>\n",
       "<table border=\"1\" class=\"dataframe\">\n",
       "  <thead>\n",
       "    <tr style=\"text-align: right;\">\n",
       "      <th></th>\n",
       "      <th>stage</th>\n",
       "      <th>rainfall</th>\n",
       "    </tr>\n",
       "  </thead>\n",
       "  <tbody>\n",
       "    <tr>\n",
       "      <th>2018-08-01 13:15:00</th>\n",
       "      <td>358.0</td>\n",
       "      <td>NaN</td>\n",
       "    </tr>\n",
       "    <tr>\n",
       "      <th>2018-08-01 13:30:00</th>\n",
       "      <td>358.0</td>\n",
       "      <td>0.0</td>\n",
       "    </tr>\n",
       "    <tr>\n",
       "      <th>2018-08-01 13:45:00</th>\n",
       "      <td>357.0</td>\n",
       "      <td>0.0</td>\n",
       "    </tr>\n",
       "    <tr>\n",
       "      <th>2018-08-01 14:00:00</th>\n",
       "      <td>357.0</td>\n",
       "      <td>0.0</td>\n",
       "    </tr>\n",
       "    <tr>\n",
       "      <th>2018-08-01 14:15:00</th>\n",
       "      <td>357.0</td>\n",
       "      <td>0.0</td>\n",
       "    </tr>\n",
       "    <tr>\n",
       "      <th>...</th>\n",
       "      <td>...</td>\n",
       "      <td>...</td>\n",
       "    </tr>\n",
       "    <tr>\n",
       "      <th>2024-07-24 19:15:00</th>\n",
       "      <td>267.0</td>\n",
       "      <td>0.0</td>\n",
       "    </tr>\n",
       "    <tr>\n",
       "      <th>2024-07-24 19:30:00</th>\n",
       "      <td>267.0</td>\n",
       "      <td>0.0</td>\n",
       "    </tr>\n",
       "    <tr>\n",
       "      <th>2024-07-24 19:45:00</th>\n",
       "      <td>266.0</td>\n",
       "      <td>0.0</td>\n",
       "    </tr>\n",
       "    <tr>\n",
       "      <th>2024-07-24 20:00:00</th>\n",
       "      <td>266.0</td>\n",
       "      <td>0.0</td>\n",
       "    </tr>\n",
       "    <tr>\n",
       "      <th>2024-07-24 20:15:00</th>\n",
       "      <td>266.0</td>\n",
       "      <td>0.0</td>\n",
       "    </tr>\n",
       "  </tbody>\n",
       "</table>\n",
       "<p>195540 rows × 2 columns</p>\n",
       "</div>"
      ],
      "text/plain": [
       "                     stage  rainfall\n",
       "2018-08-01 13:15:00  358.0       NaN\n",
       "2018-08-01 13:30:00  358.0       0.0\n",
       "2018-08-01 13:45:00  357.0       0.0\n",
       "2018-08-01 14:00:00  357.0       0.0\n",
       "2018-08-01 14:15:00  357.0       0.0\n",
       "...                    ...       ...\n",
       "2024-07-24 19:15:00  267.0       0.0\n",
       "2024-07-24 19:30:00  267.0       0.0\n",
       "2024-07-24 19:45:00  266.0       0.0\n",
       "2024-07-24 20:00:00  266.0       0.0\n",
       "2024-07-24 20:15:00  266.0       0.0\n",
       "\n",
       "[195540 rows x 2 columns]"
      ]
     },
     "execution_count": 2,
     "metadata": {},
     "output_type": "execute_result"
    }
   ],
   "source": [
    "import pandas as pd\n",
    "import warnings; warnings.filterwarnings('ignore')\n",
    "import requests\n",
    "import io\n",
    "\n",
    "# Get streamgage data from Sao Leopoldo station\n",
    "response = requests.get('https://saladesituacao.rs.gov.br/api/station/ana/sheet/87382000')\n",
    "\n",
    "# Convert the binary response to an excel file and pass it to a dataframe\n",
    "with io.BytesIO(response.content) as excel_file:\n",
    "    df = pd.io.excel.read_excel(\n",
    "        excel_file,\n",
    "        skiprows = 8,\n",
    "        names = ['date', 'stage', 'discharge', 'rainfall'],\n",
    "        dtype = {'date': object, 'stage': float, 'discharge': float, 'rainfall': float}\n",
    "    )\n",
    "\n",
    "# Drop discharge column\n",
    "df = df.drop(columns='discharge')\n",
    "\n",
    "# Parse date and set it as index\n",
    "df.index = pd.to_datetime(df.date, format='%d/%m/%Y %H:%M:%S', )\n",
    "df.index.name = None\n",
    "df.sort_index(ascending=True, inplace=True)\n",
    "df.drop(columns='date', inplace=True)\n",
    "\n",
    "# Source preview\n",
    "df"
   ]
  },
  {
   "cell_type": "code",
   "execution_count": 3,
   "metadata": {
    "slideshow": {
     "slide_type": "skip"
    },
    "tags": [
     "remove_input",
     "remove_output"
    ]
   },
   "outputs": [
    {
     "data": {
      "image/png": "[encoded data removed]",
      "text/plain": [
       "<Figure size 1500x600 with 2 Axes>"
      ]
     },
     "metadata": {},
     "output_type": "display_data"
    }
   ],
   "source": [
    "import datetime as dt\n",
    "import numpy as np\n",
    "import matplotlib.pyplot as plt\n",
    "\n",
    "# Slice and sort the dataframe for the plot\n",
    "start_date = '2024-01-15'\n",
    "# end_date = '2024-07-15'\n",
    "df_slice = df.loc[start_date:]\n",
    "\n",
    "# Create the plot\n",
    "fig, ax1 = plt.subplots(figsize=(15, 6))\n",
    "\n",
    "# Plot rainfall on the primary y-axis\n",
    "ax1.bar(df_slice.index, df_slice.rainfall, color='gray', alpha=0.5, label='Rainfall')\n",
    "ax1.set_ylabel('Rainfall (mm)')\n",
    "ax1.tick_params(axis='y')\n",
    "\n",
    "# Create a secondary y-axis for stage\n",
    "ax2 = ax1.twinx()\n",
    "ax2.plot(df_slice.index, df_slice.stage, color='blue', label='River Stage')\n",
    "ax2.set_xlabel('Timestamp')\n",
    "ax2.set_ylabel('River Stage (cm)')\n",
    "ax2.tick_params(axis='y')\n",
    "\n",
    "# Add reference lines (uncomment if needed)\n",
    "ax2.axhline(y=450, color='red', linestyle='--', linewidth=2, label='Flood stage')\n",
    "# plt.axvline(dt.datetime(2024, 4, 27, hour=12), color='black', linestyle='--', label='Stage rise')\n",
    "# plt.axvline(dt.datetime(2024, 5, 4, hour=12), color='black', linestyle='-.', label='Stage peak')\n",
    "\n",
    "# Add legends\n",
    "lines, labels = ax1.get_legend_handles_labels()\n",
    "bars, bar_labels = ax2.get_legend_handles_labels()\n",
    "ax1.legend(lines + bars, labels + bar_labels, loc='upper left')\n",
    "\n",
    "# Show the plot\n",
    "plt.title('Rainfall vs River Stage')\n",
    "plt.show()"
   ]
  },
  {
   "cell_type": "markdown",
   "metadata": {
    "slideshow": {
     "slide_type": "subslide"
    }
   },
   "source": [
    "📈 And here's a quick plot of a small subset of the river stage and rainfall data from the rmost ecent flood event at São Leopoldo/RS, Brazil:\n",
    "* Over **6 months** of 15-min ininterrupt data collection, from January 15th 2024 up to now.\n",
    "* Accumulated rainfall over a moving window of 11 days (the time it takes for the most distant raindrop to get down to the flooding area).\n",
    "* One historical flooding event registered (May 4th 2024)\n",
    "* Over **17k data samples**"
   ]
  },
  {
   "cell_type": "code",
   "execution_count": 4,
   "metadata": {
    "slideshow": {
     "slide_type": "fragment"
    },
    "tags": [
     "remove_input"
    ]
   },
   "outputs": [
    {
     "data": {
      "image/png": "[encoded data removed]",
      "text/plain": [
       "<Figure size 1500x600 with 2 Axes>"
      ]
     },
     "metadata": {},
     "output_type": "display_data"
    }
   ],
   "source": [
    "# Accumulated rainfall\n",
    "## Get the amount of samples to be accumulated\n",
    "peak_time = dt.datetime(2024, 5, 4, hour=12) - dt.datetime(2024, 4, 27, hour=12)\n",
    "concentration_time = (peak_time / 0.6).days\n",
    "concentration_time_samples = concentration_time * 24 * 4    # one sample every 15 min\n",
    "\n",
    "## Add it to a new column in the df\n",
    "temp = np.convolve(df_slice.rainfall, np.ones(concentration_time_samples))\n",
    "df_slice['accum_rainfall'] = temp[:df_slice.shape[0]]\n",
    "\n",
    "# Create a new plot\n",
    "fig, ax1 = plt.subplots(figsize=(15, 6))\n",
    "\n",
    "# Plot rainfall on the primary y-axis\n",
    "ax1.bar(df_slice.index, df_slice.accum_rainfall, color='gray', alpha=0.5, label='Accumulated rainfall')\n",
    "ax1.set_ylabel('Accumulated rainfall (mm)')\n",
    "ax1.tick_params(axis='y')\n",
    "\n",
    "# Create a secondary y-axis for stage\n",
    "ax2 = ax1.twinx()\n",
    "ax2.plot(df_slice.index, df_slice.stage, color='blue', label='River Stage')\n",
    "ax2.set_xlabel('Timestamp')\n",
    "ax2.set_ylabel('River Stage (cm)')\n",
    "ax2.tick_params(axis='y')\n",
    "\n",
    "# Add reference lines\n",
    "ax2.axhline(y=450, color='red', linestyle='--', linewidth=2, label='Flood stage')\n",
    "\n",
    "# Add legends\n",
    "lines, labels = ax1.get_legend_handles_labels()\n",
    "bars, bar_labels = ax2.get_legend_handles_labels()\n",
    "ax1.legend(lines + bars, labels + bar_labels, loc='upper left')\n",
    "\n",
    "# Show the plot\n",
    "plt.title('Rainfall vs River Stage')\n",
    "plt.show()"
   ]
  },
  {
   "cell_type": "markdown",
   "metadata": {
    "slideshow": {
     "slide_type": "subslide"
    }
   },
   "source": [
    "👇 Finally, a fresh hourly weather forecast for São Leopoldo, taken from the Open-Meteo API pointing out to the [Global Forecast System (GFS)](https://www.ncei.noaa.gov/products/weather-climate-models/global-forecast) model.\n",
    "\n",
    "❗A limitation to keep in mind is that the API's non-commercial free tier allows 10,000 calls/day."
   ]
  },
  {
   "cell_type": "code",
   "execution_count": 9,
   "metadata": {
    "slideshow": {
     "slide_type": "fragment"
    },
    "tags": [
     "remove_input"
    ]
   },
   "outputs": [
    {
     "data": {
      "text/html": [
       "<div>\n",
       "<style scoped>\n",
       "    .dataframe tbody tr th:only-of-type {\n",
       "        vertical-align: middle;\n",
       "    }\n",
       "\n",
       "    .dataframe tbody tr th {\n",
       "        vertical-align: top;\n",
       "    }\n",
       "\n",
       "    .dataframe thead th {\n",
       "        text-align: right;\n",
       "    }\n",
       "</style>\n",
       "<table border=\"1\" class=\"dataframe\">\n",
       "  <thead>\n",
       "    <tr style=\"text-align: right;\">\n",
       "      <th></th>\n",
       "      <th>temperature</th>\n",
       "      <th>rainfall_proba</th>\n",
       "      <th>rainfall</th>\n",
       "    </tr>\n",
       "  </thead>\n",
       "  <tbody>\n",
       "    <tr>\n",
       "      <th>2024-07-24 00:00:00+00:00</th>\n",
       "      <td>18.636000</td>\n",
       "      <td>0.0</td>\n",
       "      <td>0.0</td>\n",
       "    </tr>\n",
       "    <tr>\n",
       "      <th>2024-07-24 01:00:00+00:00</th>\n",
       "      <td>18.335999</td>\n",
       "      <td>0.0</td>\n",
       "      <td>0.0</td>\n",
       "    </tr>\n",
       "    <tr>\n",
       "      <th>2024-07-24 02:00:00+00:00</th>\n",
       "      <td>18.035999</td>\n",
       "      <td>0.0</td>\n",
       "      <td>0.0</td>\n",
       "    </tr>\n",
       "    <tr>\n",
       "      <th>2024-07-24 03:00:00+00:00</th>\n",
       "      <td>18.335999</td>\n",
       "      <td>0.0</td>\n",
       "      <td>0.0</td>\n",
       "    </tr>\n",
       "    <tr>\n",
       "      <th>2024-07-24 04:00:00+00:00</th>\n",
       "      <td>17.736000</td>\n",
       "      <td>0.0</td>\n",
       "      <td>0.0</td>\n",
       "    </tr>\n",
       "    <tr>\n",
       "      <th>...</th>\n",
       "      <td>...</td>\n",
       "      <td>...</td>\n",
       "      <td>...</td>\n",
       "    </tr>\n",
       "    <tr>\n",
       "      <th>2024-07-30 19:00:00+00:00</th>\n",
       "      <td>16.435999</td>\n",
       "      <td>10.0</td>\n",
       "      <td>0.0</td>\n",
       "    </tr>\n",
       "    <tr>\n",
       "      <th>2024-07-30 20:00:00+00:00</th>\n",
       "      <td>14.736000</td>\n",
       "      <td>11.0</td>\n",
       "      <td>0.0</td>\n",
       "    </tr>\n",
       "    <tr>\n",
       "      <th>2024-07-30 21:00:00+00:00</th>\n",
       "      <td>13.236000</td>\n",
       "      <td>10.0</td>\n",
       "      <td>0.0</td>\n",
       "    </tr>\n",
       "    <tr>\n",
       "      <th>2024-07-30 22:00:00+00:00</th>\n",
       "      <td>12.286000</td>\n",
       "      <td>7.0</td>\n",
       "      <td>0.0</td>\n",
       "    </tr>\n",
       "    <tr>\n",
       "      <th>2024-07-30 23:00:00+00:00</th>\n",
       "      <td>11.586000</td>\n",
       "      <td>3.0</td>\n",
       "      <td>0.0</td>\n",
       "    </tr>\n",
       "  </tbody>\n",
       "</table>\n",
       "<p>168 rows × 3 columns</p>\n",
       "</div>"
      ],
      "text/plain": [
       "                           temperature  rainfall_proba  rainfall\n",
       "2024-07-24 00:00:00+00:00    18.636000             0.0       0.0\n",
       "2024-07-24 01:00:00+00:00    18.335999             0.0       0.0\n",
       "2024-07-24 02:00:00+00:00    18.035999             0.0       0.0\n",
       "2024-07-24 03:00:00+00:00    18.335999             0.0       0.0\n",
       "2024-07-24 04:00:00+00:00    17.736000             0.0       0.0\n",
       "...                                ...             ...       ...\n",
       "2024-07-30 19:00:00+00:00    16.435999            10.0       0.0\n",
       "2024-07-30 20:00:00+00:00    14.736000            11.0       0.0\n",
       "2024-07-30 21:00:00+00:00    13.236000            10.0       0.0\n",
       "2024-07-30 22:00:00+00:00    12.286000             7.0       0.0\n",
       "2024-07-30 23:00:00+00:00    11.586000             3.0       0.0\n",
       "\n",
       "[168 rows x 3 columns]"
      ]
     },
     "execution_count": 9,
     "metadata": {},
     "output_type": "execute_result"
    }
   ],
   "source": [
    "import openmeteo_requests\n",
    "\n",
    "import requests_cache\n",
    "import pandas as pd\n",
    "from retry_requests import retry\n",
    "\n",
    "# Setup the Open-Meteo API client with cache and retry on error\n",
    "cache_session = requests_cache.CachedSession('.cache', expire_after = 3600)\n",
    "retry_session = retry(cache_session, retries = 5, backoff_factor = 0.2)\n",
    "openmeteo = openmeteo_requests.Client(session = retry_session)\n",
    "\n",
    "# Make sure all required weather variables are listed here\n",
    "# The order of variables in hourly or daily is important to assign them correctly below\n",
    "url = \"https://api.open-meteo.com/v1/forecast\"\n",
    "params = {\n",
    "\t\"latitude\": -29.761076,\n",
    "\t\"longitude\": -51.148365,\n",
    "\t\"hourly\": [\"temperature_2m\", \"precipitation_probability\", \"rain\"],\n",
    "    \"models\": \"gfs_seamless\"\n",
    "}\n",
    "responses = openmeteo.weather_api(url, params=params)\n",
    "\n",
    "# Process first location. Add a for-loop for multiple locations or weather models\n",
    "response = responses[0]\n",
    "# print(f\"Coordinates {response.Latitude()}°N {response.Longitude()}°E\")\n",
    "# print(f\"Elevation {response.Elevation()} m asl\")\n",
    "# print(f\"Timezone {response.Timezone()} {response.TimezoneAbbreviation()}\")\n",
    "# print(f\"Timezone difference to GMT+0 {response.UtcOffsetSeconds()} s\")\n",
    "\n",
    "# Process hourly data. The order of variables needs to be the same as requested.\n",
    "hourly = response.Hourly()\n",
    "hourly_temperature_2m = hourly.Variables(0).ValuesAsNumpy()\n",
    "hourly_precipitation_probability = hourly.Variables(1).ValuesAsNumpy()\n",
    "hourly_rain = hourly.Variables(2).ValuesAsNumpy()\n",
    "\n",
    "hourly_data = {\"date\": pd.date_range(\n",
    "\tstart = pd.to_datetime(hourly.Time(), unit = \"s\", utc = True),\n",
    "\tend = pd.to_datetime(hourly.TimeEnd(), unit = \"s\", utc = True),\n",
    "\tfreq = pd.Timedelta(seconds = hourly.Interval()),\n",
    "\tinclusive = \"left\"\n",
    ")}\n",
    "hourly_data[\"temperature\"] = hourly_temperature_2m\n",
    "hourly_data[\"rainfall_proba\"] = hourly_precipitation_probability\n",
    "hourly_data[\"rainfall\"] = hourly_rain\n",
    "\n",
    "forecast_df = pd.DataFrame(data = hourly_data)\n",
    "forecast_df.index = forecast_df['date']\n",
    "forecast_df.index.name = None\n",
    "forecast_df.sort_index(ascending=True, inplace=True)\n",
    "forecast_df.drop(columns='date', inplace=True)\n",
    "forecast_df"
   ]
  },
  {
   "cell_type": "markdown",
   "metadata": {
    "slideshow": {
     "slide_type": "skip"
    }
   },
   "source": [
    "### 1.2.1. Meteorological data"
   ]
  },
  {
   "cell_type": "code",
   "execution_count": 5,
   "metadata": {
    "slideshow": {
     "slide_type": "skip"
    }
   },
   "outputs": [
    {
     "name": "stdout",
     "output_type": "stream",
     "text": [
      "Coordinates -29.771530151367188°N -51.114990234375°E\n",
      "Elevation 6.0 m asl\n",
      "Timezone b'America/Sao_Paulo' b'-03'\n",
      "Timezone difference to GMT+0 -10800 s\n"
     ]
    },
    {
     "data": {
      "text/html": [
       "<div>\n",
       "<style scoped>\n",
       "    .dataframe tbody tr th:only-of-type {\n",
       "        vertical-align: middle;\n",
       "    }\n",
       "\n",
       "    .dataframe tbody tr th {\n",
       "        vertical-align: top;\n",
       "    }\n",
       "\n",
       "    .dataframe thead th {\n",
       "        text-align: right;\n",
       "    }\n",
       "</style>\n",
       "<table border=\"1\" class=\"dataframe\">\n",
       "  <thead>\n",
       "    <tr style=\"text-align: right;\">\n",
       "      <th></th>\n",
       "      <th>temperature_2m</th>\n",
       "      <th>surface_pressure</th>\n",
       "      <th>wind_speed_100m</th>\n",
       "      <th>soil_moisture_0_to_7cm</th>\n",
       "      <th>soil_moisture_7_to_28cm</th>\n",
       "      <th>soil_moisture_28_to_100cm</th>\n",
       "      <th>soil_moisture_100_to_255cm</th>\n",
       "      <th>direct_radiation</th>\n",
       "    </tr>\n",
       "  </thead>\n",
       "  <tbody>\n",
       "    <tr>\n",
       "      <th>2018-01-01 03:00:00+00:00</th>\n",
       "      <td>21.527500</td>\n",
       "      <td>1006.299927</td>\n",
       "      <td>17.057314</td>\n",
       "      <td>0.399</td>\n",
       "      <td>0.406</td>\n",
       "      <td>0.389</td>\n",
       "      <td>0.460</td>\n",
       "      <td>0.0</td>\n",
       "    </tr>\n",
       "    <tr>\n",
       "      <th>2018-01-01 04:00:00+00:00</th>\n",
       "      <td>21.027500</td>\n",
       "      <td>1006.098694</td>\n",
       "      <td>13.138765</td>\n",
       "      <td>0.399</td>\n",
       "      <td>0.406</td>\n",
       "      <td>0.389</td>\n",
       "      <td>0.460</td>\n",
       "      <td>0.0</td>\n",
       "    </tr>\n",
       "    <tr>\n",
       "      <th>2018-01-01 05:00:00+00:00</th>\n",
       "      <td>20.277500</td>\n",
       "      <td>1005.697144</td>\n",
       "      <td>9.021574</td>\n",
       "      <td>0.399</td>\n",
       "      <td>0.406</td>\n",
       "      <td>0.389</td>\n",
       "      <td>0.460</td>\n",
       "      <td>0.0</td>\n",
       "    </tr>\n",
       "    <tr>\n",
       "      <th>2018-01-01 06:00:00+00:00</th>\n",
       "      <td>20.227501</td>\n",
       "      <td>1004.997620</td>\n",
       "      <td>9.449572</td>\n",
       "      <td>0.399</td>\n",
       "      <td>0.406</td>\n",
       "      <td>0.389</td>\n",
       "      <td>0.460</td>\n",
       "      <td>0.0</td>\n",
       "    </tr>\n",
       "    <tr>\n",
       "      <th>2018-01-01 07:00:00+00:00</th>\n",
       "      <td>19.927502</td>\n",
       "      <td>1004.597229</td>\n",
       "      <td>7.491114</td>\n",
       "      <td>0.399</td>\n",
       "      <td>0.406</td>\n",
       "      <td>0.389</td>\n",
       "      <td>0.460</td>\n",
       "      <td>0.0</td>\n",
       "    </tr>\n",
       "    <tr>\n",
       "      <th>...</th>\n",
       "      <td>...</td>\n",
       "      <td>...</td>\n",
       "      <td>...</td>\n",
       "      <td>...</td>\n",
       "      <td>...</td>\n",
       "      <td>...</td>\n",
       "      <td>...</td>\n",
       "      <td>...</td>\n",
       "    </tr>\n",
       "    <tr>\n",
       "      <th>2024-07-20 22:00:00+00:00</th>\n",
       "      <td>16.127501</td>\n",
       "      <td>1022.475159</td>\n",
       "      <td>17.533146</td>\n",
       "      <td>0.470</td>\n",
       "      <td>0.481</td>\n",
       "      <td>0.482</td>\n",
       "      <td>0.503</td>\n",
       "      <td>0.0</td>\n",
       "    </tr>\n",
       "    <tr>\n",
       "      <th>2024-07-20 23:00:00+00:00</th>\n",
       "      <td>15.077500</td>\n",
       "      <td>1022.272705</td>\n",
       "      <td>16.071491</td>\n",
       "      <td>0.470</td>\n",
       "      <td>0.481</td>\n",
       "      <td>0.482</td>\n",
       "      <td>0.503</td>\n",
       "      <td>0.0</td>\n",
       "    </tr>\n",
       "    <tr>\n",
       "      <th>2024-07-21 00:00:00+00:00</th>\n",
       "      <td>14.227500</td>\n",
       "      <td>1021.870789</td>\n",
       "      <td>14.764389</td>\n",
       "      <td>0.470</td>\n",
       "      <td>0.480</td>\n",
       "      <td>0.482</td>\n",
       "      <td>0.503</td>\n",
       "      <td>0.0</td>\n",
       "    </tr>\n",
       "    <tr>\n",
       "      <th>2024-07-21 01:00:00+00:00</th>\n",
       "      <td>13.077500</td>\n",
       "      <td>1021.967834</td>\n",
       "      <td>13.397612</td>\n",
       "      <td>0.467</td>\n",
       "      <td>0.479</td>\n",
       "      <td>0.481</td>\n",
       "      <td>0.503</td>\n",
       "      <td>0.0</td>\n",
       "    </tr>\n",
       "    <tr>\n",
       "      <th>2024-07-21 02:00:00+00:00</th>\n",
       "      <td>12.027500</td>\n",
       "      <td>1021.965271</td>\n",
       "      <td>8.759178</td>\n",
       "      <td>0.467</td>\n",
       "      <td>0.478</td>\n",
       "      <td>0.481</td>\n",
       "      <td>0.503</td>\n",
       "      <td>0.0</td>\n",
       "    </tr>\n",
       "  </tbody>\n",
       "</table>\n",
       "<p>57432 rows × 8 columns</p>\n",
       "</div>"
      ],
      "text/plain": [
       "                           temperature_2m  surface_pressure  wind_speed_100m  \\\n",
       "2018-01-01 03:00:00+00:00       21.527500       1006.299927        17.057314   \n",
       "2018-01-01 04:00:00+00:00       21.027500       1006.098694        13.138765   \n",
       "2018-01-01 05:00:00+00:00       20.277500       1005.697144         9.021574   \n",
       "2018-01-01 06:00:00+00:00       20.227501       1004.997620         9.449572   \n",
       "2018-01-01 07:00:00+00:00       19.927502       1004.597229         7.491114   \n",
       "...                                   ...               ...              ...   \n",
       "2024-07-20 22:00:00+00:00       16.127501       1022.475159        17.533146   \n",
       "2024-07-20 23:00:00+00:00       15.077500       1022.272705        16.071491   \n",
       "2024-07-21 00:00:00+00:00       14.227500       1021.870789        14.764389   \n",
       "2024-07-21 01:00:00+00:00       13.077500       1021.967834        13.397612   \n",
       "2024-07-21 02:00:00+00:00       12.027500       1021.965271         8.759178   \n",
       "\n",
       "                           soil_moisture_0_to_7cm  soil_moisture_7_to_28cm  \\\n",
       "2018-01-01 03:00:00+00:00                   0.399                    0.406   \n",
       "2018-01-01 04:00:00+00:00                   0.399                    0.406   \n",
       "2018-01-01 05:00:00+00:00                   0.399                    0.406   \n",
       "2018-01-01 06:00:00+00:00                   0.399                    0.406   \n",
       "2018-01-01 07:00:00+00:00                   0.399                    0.406   \n",
       "...                                           ...                      ...   \n",
       "2024-07-20 22:00:00+00:00                   0.470                    0.481   \n",
       "2024-07-20 23:00:00+00:00                   0.470                    0.481   \n",
       "2024-07-21 00:00:00+00:00                   0.470                    0.480   \n",
       "2024-07-21 01:00:00+00:00                   0.467                    0.479   \n",
       "2024-07-21 02:00:00+00:00                   0.467                    0.478   \n",
       "\n",
       "                           soil_moisture_28_to_100cm  \\\n",
       "2018-01-01 03:00:00+00:00                      0.389   \n",
       "2018-01-01 04:00:00+00:00                      0.389   \n",
       "2018-01-01 05:00:00+00:00                      0.389   \n",
       "2018-01-01 06:00:00+00:00                      0.389   \n",
       "2018-01-01 07:00:00+00:00                      0.389   \n",
       "...                                              ...   \n",
       "2024-07-20 22:00:00+00:00                      0.482   \n",
       "2024-07-20 23:00:00+00:00                      0.482   \n",
       "2024-07-21 00:00:00+00:00                      0.482   \n",
       "2024-07-21 01:00:00+00:00                      0.481   \n",
       "2024-07-21 02:00:00+00:00                      0.481   \n",
       "\n",
       "                           soil_moisture_100_to_255cm  direct_radiation  \n",
       "2018-01-01 03:00:00+00:00                       0.460               0.0  \n",
       "2018-01-01 04:00:00+00:00                       0.460               0.0  \n",
       "2018-01-01 05:00:00+00:00                       0.460               0.0  \n",
       "2018-01-01 06:00:00+00:00                       0.460               0.0  \n",
       "2018-01-01 07:00:00+00:00                       0.460               0.0  \n",
       "...                                               ...               ...  \n",
       "2024-07-20 22:00:00+00:00                       0.503               0.0  \n",
       "2024-07-20 23:00:00+00:00                       0.503               0.0  \n",
       "2024-07-21 00:00:00+00:00                       0.503               0.0  \n",
       "2024-07-21 01:00:00+00:00                       0.503               0.0  \n",
       "2024-07-21 02:00:00+00:00                       0.503               0.0  \n",
       "\n",
       "[57432 rows x 8 columns]"
      ]
     },
     "execution_count": 5,
     "metadata": {},
     "output_type": "execute_result"
    }
   ],
   "source": [
    "import openmeteo_requests\n",
    "\n",
    "import requests_cache\n",
    "import pandas as pd\n",
    "from retry_requests import retry\n",
    "\n",
    "# Setup the Open-Meteo API client with cache and retry on error\n",
    "cache_session = requests_cache.CachedSession('.cache', expire_after = -1)\n",
    "retry_session = retry(cache_session, retries = 5, backoff_factor = 0.2)\n",
    "openmeteo = openmeteo_requests.Client(session = retry_session)\n",
    "\n",
    "# Make sure all required weather variables are listed here\n",
    "# The order of variables in hourly or daily is important to assign them correctly below\n",
    "url = \"https://archive-api.open-meteo.com/v1/archive\"\n",
    "params = {\n",
    "\t\"latitude\": -29.7589,\n",
    "\t\"longitude\": -51.1483,\n",
    "\t\"start_date\": \"2018-01-01\",\n",
    "\t\"end_date\": \"2024-07-20\",\n",
    "\t\"hourly\": [\"temperature_2m\", \"surface_pressure\", \"wind_speed_100m\", \"soil_moisture_0_to_7cm\", \"soil_moisture_7_to_28cm\", \"soil_moisture_28_to_100cm\", \"soil_moisture_100_to_255cm\", \"direct_radiation\"],\n",
    "\t\"timezone\": \"America/Sao_Paulo\"\n",
    "}\n",
    "responses = openmeteo.weather_api(url, params=params)\n",
    "\n",
    "# Process first location. Add a for-loop for multiple locations or weather models\n",
    "response = responses[0]\n",
    "print(f\"Coordinates {response.Latitude()}°N {response.Longitude()}°E\")\n",
    "print(f\"Elevation {response.Elevation()} m asl\")\n",
    "print(f\"Timezone {response.Timezone()} {response.TimezoneAbbreviation()}\")\n",
    "print(f\"Timezone difference to GMT+0 {response.UtcOffsetSeconds()} s\")\n",
    "\n",
    "# Process hourly data. The order of variables needs to be the same as requested.\n",
    "hourly = response.Hourly()\n",
    "hourly_temperature_2m = hourly.Variables(0).ValuesAsNumpy()\n",
    "hourly_surface_pressure = hourly.Variables(1).ValuesAsNumpy()\n",
    "hourly_wind_speed_100m = hourly.Variables(2).ValuesAsNumpy()\n",
    "hourly_soil_moisture_0_to_7cm = hourly.Variables(3).ValuesAsNumpy()\n",
    "hourly_soil_moisture_7_to_28cm = hourly.Variables(4).ValuesAsNumpy()\n",
    "hourly_soil_moisture_28_to_100cm = hourly.Variables(5).ValuesAsNumpy()\n",
    "hourly_soil_moisture_100_to_255cm = hourly.Variables(6).ValuesAsNumpy()\n",
    "hourly_direct_radiation = hourly.Variables(7).ValuesAsNumpy()\n",
    "\n",
    "hourly_data = {\"date\": pd.date_range(\n",
    "\tstart = pd.to_datetime(hourly.Time(), unit = \"s\", utc = True),\n",
    "\tend = pd.to_datetime(hourly.TimeEnd(), unit = \"s\", utc = True),\n",
    "\tfreq = pd.Timedelta(seconds = hourly.Interval()),\n",
    "\tinclusive = \"left\"\n",
    ")}\n",
    "hourly_data[\"temperature_2m\"] = hourly_temperature_2m\n",
    "hourly_data[\"surface_pressure\"] = hourly_surface_pressure\n",
    "hourly_data[\"wind_speed_100m\"] = hourly_wind_speed_100m\n",
    "hourly_data[\"soil_moisture_0_to_7cm\"] = hourly_soil_moisture_0_to_7cm\n",
    "hourly_data[\"soil_moisture_7_to_28cm\"] = hourly_soil_moisture_7_to_28cm\n",
    "hourly_data[\"soil_moisture_28_to_100cm\"] = hourly_soil_moisture_28_to_100cm\n",
    "hourly_data[\"soil_moisture_100_to_255cm\"] = hourly_soil_moisture_100_to_255cm\n",
    "hourly_data[\"direct_radiation\"] = hourly_direct_radiation\n",
    "\n",
    "meteo_df = pd.DataFrame(data = hourly_data)\n",
    "meteo_df.index = meteo_df['date']\n",
    "meteo_df.index.name = None\n",
    "meteo_df.sort_index(ascending=True, inplace=True)\n",
    "meteo_df.drop(columns='date', inplace=True)\n",
    "\n",
    "meteo_df.to_csv('historical_meteo_data.csv')\n",
    "\n",
    "meteo_df"
   ]
  },
  {
   "cell_type": "markdown",
   "metadata": {
    "slideshow": {
     "slide_type": "slide"
    }
   },
   "source": [
    "# 💪 Let's code this together!"
   ]
  },
  {
   "cell_type": "markdown",
   "metadata": {
    "slideshow": {
     "slide_type": "skip"
    },
    "tags": [
     "remove_input",
     "remove_output"
    ]
   },
   "source": [
    "# **2. Slides and HTML Export**\n",
    "\n",
    "From here on the cells are ommited from the html-slide"
   ]
  },
  {
   "cell_type": "code",
   "execution_count": 19,
   "metadata": {
    "slideshow": {
     "slide_type": "skip"
    }
   },
   "outputs": [
    {
     "data": {
      "application/javascript": "IPython.notebook.save_checkpoint();",
      "text/plain": [
       "<IPython.core.display.Javascript object>"
      ]
     },
     "metadata": {},
     "output_type": "display_data"
    }
   ],
   "source": [
    "# Run this cell to save the notebook before generating slides\n",
    "from IPython.display import Javascript, display\n",
    "display(Javascript('IPython.notebook.save_checkpoint();'))"
   ]
  },
  {
   "cell_type": "code",
   "execution_count": 11,
   "metadata": {
    "slideshow": {
     "slide_type": "skip"
    },
    "tags": [
     "remove_input",
     "remove_output"
    ]
   },
   "outputs": [
    {
     "name": "stdout",
     "output_type": "stream",
     "text": [
      "[NbConvertApp] Converting notebook idea-viability.ipynb to slides\n",
      "[NbConvertApp] Writing 682792 bytes to idea-viability.slides.html\n",
      "[NbConvertApp] Redirecting reveal.js requests to https://cdnjs.cloudflare.com/ajax/libs/reveal.js/3.5.0\n",
      "Serving your slides at http://127.0.0.1:8000/idea-viability.slides.html\n",
      "Use Control-C to stop this server\n",
      "404 GET /favicon.ico (127.0.0.1) 0.97ms\n",
      "^C\n",
      "\n",
      "Interrupted\n"
     ]
    }
   ],
   "source": [
    "# Run this cell to generate slides and hit stop to kill the server\n",
    "!jupyter nbconvert idea-viability.ipynb --to slides --post serve --no-prompt \\\n",
    "--TagRemovePreprocessor.remove_input_tags=remove_input \\\n",
    "--TagRemovePreprocessor.remove_all_outputs_tags=remove_output"
   ]
  },
  {
   "cell_type": "code",
   "execution_count": 13,
   "metadata": {
    "slideshow": {
     "slide_type": "skip"
    },
    "tags": [
     "remove_output",
     "remove_input"
    ]
   },
   "outputs": [
    {
     "ename": "FileNotFoundError",
     "evalue": "[Errno 2] No such file or directory: 'idea-viability.slides.html' -> 'index.html'",
     "output_type": "error",
     "traceback": [
      "\u001b[0;31m---------------------------------------------------------------------------\u001b[0m",
      "\u001b[0;31mFileNotFoundError\u001b[0m                         Traceback (most recent call last)",
      "Cell \u001b[0;32mIn [13], line 3\u001b[0m\n\u001b[1;32m      1\u001b[0m \u001b[38;5;66;03m# Run this cell to rename the *.slides.hmtl and push it to the host\u001b[39;00m\n\u001b[1;32m      2\u001b[0m \u001b[38;5;28;01mimport\u001b[39;00m \u001b[38;5;21;01mos\u001b[39;00m\n\u001b[0;32m----> 3\u001b[0m \u001b[43mos\u001b[49m\u001b[38;5;241;43m.\u001b[39;49m\u001b[43mrename\u001b[49m\u001b[43m(\u001b[49m\u001b[38;5;124;43m'\u001b[39;49m\u001b[38;5;124;43midea-viability.slides.html\u001b[39;49m\u001b[38;5;124;43m'\u001b[39;49m\u001b[43m,\u001b[49m\u001b[43m \u001b[49m\u001b[38;5;124;43m'\u001b[39;49m\u001b[38;5;124;43mindex.html\u001b[39;49m\u001b[38;5;124;43m'\u001b[39;49m\u001b[43m)\u001b[49m\n\u001b[1;32m      5\u001b[0m get_ipython()\u001b[38;5;241m.\u001b[39msystem(\u001b[38;5;124m'\u001b[39m\u001b[38;5;124mgit add index.html\u001b[39m\u001b[38;5;124m'\u001b[39m)\n\u001b[1;32m      6\u001b[0m get_ipython()\u001b[38;5;241m.\u001b[39msystem(\u001b[38;5;124m\"\u001b[39m\u001b[38;5;124mgit commit -m \u001b[39m\u001b[38;5;124m'\u001b[39m\u001b[38;5;124mupdated index.html\u001b[39m\u001b[38;5;124m'\u001b[39m\u001b[38;5;124m\"\u001b[39m)\n",
      "\u001b[0;31mFileNotFoundError\u001b[0m: [Errno 2] No such file or directory: 'idea-viability.slides.html' -> 'index.html'"
     ]
    }
   ],
   "source": [
    "# Run this cell to rename the *.slides.hmtl and push it to the host\n",
    "import os\n",
    "os.rename('idea-viability.slides.html', 'index.html')\n",
    "\n",
    "!git add index.html\n",
    "!git commit -m 'updated index.html'\n",
    "!git push origin main"
   ]
  },
  {
   "cell_type": "markdown",
   "metadata": {
    "slideshow": {
     "slide_type": "skip"
    }
   },
   "source": [
    "Wait a few minutes after the push to broadcast the updates in the repo and hit the link!\n",
    "\n",
    "👉 [Link to the published html-slide](https://samuelbarsanellicosta.github.io/data-flood-forecasting-pitch/)"
   ]
  },
  {
   "cell_type": "markdown",
   "metadata": {
    "slideshow": {
     "slide_type": "skip"
    },
    "tags": [
     "remove_input",
     "remove_output"
    ]
   },
   "source": [
    "<details>\n",
    "    <summary><i>💡 Details about generating a html-slide version of the notebook</i></summary>\n",
    "\n",
    "In VSCode, right-click on the cell and:\n",
    "- Click on `Switch Slide Type` to set the proper configuration for the cell\n",
    "- Click on `Add Cell Tag` to add tags if needed\n",
    "\n",
    "Then, generate an html-slide version of this using the following command:\n",
    "\n",
    "```\n",
    "jupyter nbconvert index.ipynb --to slides --post serve --no-prompt \\\n",
    "--TagRemovePreprocessor.remove_input_tags=remove_input \\\n",
    "--TagRemovePreprocessor.remove_all_outputs_tags=remove_output\n",
    "```\n",
    "\n",
    "- `no-prompt` removes the In [xx]: and Out[xx]: to the left of each cells\n",
    "- `--TagRemovePreprocessor` allows you to not display either inputs or outputs of cells that have the associated Tag\n",
    "\n",
    "As for hosting the html using GitHub, pages change the ```<output-format>``` like this:\n",
    "\n",
    "``` jupyter nbconvert --to html index.ipynb ```\n",
    "\n",
    "Make sure to name the notebook as 'index' and that GitHub Pages [settings](https://pages.github.com/) are properly set.\n",
    "\n",
    "</details>"
   ]
  }
 ],
 "metadata": {
  "kernelspec": {
   "display_name": "lewagon",
   "language": "python",
   "name": "python3"
  },
  "language_info": {
   "codemirror_mode": {
    "name": "ipython",
    "version": 3
   },
   "file_extension": ".py",
   "mimetype": "text/x-python",
   "name": "python",
   "nbconvert_exporter": "python",
   "pygments_lexer": "ipython3",
   "version": "3.10.6"
  }
 },
 "nbformat": 4,
 "nbformat_minor": 2
}
