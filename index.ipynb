{
 "cells": [
  {
   "cell_type": "markdown",
   "metadata": {
    "slideshow": {
     "slide_type": "slide"
    }
   },
   "source": [
    "# Forecasting urban floods\n",
    "\n",
    "*pitched by Samuel Barsanelli Costa*"
   ]
  },
  {
   "cell_type": "markdown",
   "metadata": {
    "slideshow": {
     "slide_type": "skip"
    }
   },
   "source": [
    "<details>\n",
    "    <summary><i>💡 Hint: how to generate a html-slide version of the notebook</i></summary>\n",
    "\n",
    "In VSCode, right-click on the cell and:\n",
    "- Click on `Switch Slide Type` to set the proper configuration for the cell\n",
    "- Click on `Add Cell Tag` to add tags if needed\n",
    "\n",
    "Then, generate an html-slide version of this using the following command:\n",
    "\n",
    "```\n",
    "jupyter nbconvert index.ipynb --to slides --post serve --no-prompt \\\n",
    "--TagRemovePreprocessor.remove_input_tags=remove_input \\\n",
    "--TagRemovePreprocessor.remove_all_outputs_tags=remove_output\n",
    "```\n",
    "\n",
    "- `no-prompt` removes the In [xx]: and Out[xx]: to the left of each cells\n",
    "- `--TagRemovePreprocessor` allows you to not display either inputs or outputs of cells that have the associated Tag\n",
    "\n",
    "As for hosting the html using GitHub, pages change the ```<output-format>``` like this:\n",
    "\n",
    "``` jupyter nbconvert --to html index.ipynb ```\n",
    "\n",
    "Make sure to name the notebook as 'index' and that GitHub Pages [settings](https://pages.github.com/) are properly set.\n",
    "\n",
    "</details>"
   ]
  },
  {
   "cell_type": "markdown",
   "metadata": {
    "slideshow": {
     "slide_type": "slide"
    }
   },
   "source": [
    "## Problem statement"
   ]
  },
  {
   "cell_type": "markdown",
   "metadata": {
    "slideshow": {
     "slide_type": "subslide"
    }
   },
   "source": [
    "What is an urban flood and why should we care about forecasting it?\n",
    "\n",
    "📽️ A picture is worth a thousand words...\n",
    "\n",
    "<iframe width=\"600\" height=\"340\"\n",
    "src=\"https://www.youtube.com/embed/qefFjVbrZwE?autoplay=1&mute=1\">\n",
    "</iframe>"
   ]
  },
  {
   "cell_type": "markdown",
   "metadata": {
    "slideshow": {
     "slide_type": "subslide"
    }
   },
   "source": [
    "This is a global issue related to climate change, as raised by the [UN](https://www.undrr.org/)'s [GAR23](https://www.undrr.org/gar/gar2023-special-report) report:\n",
    "* the increase in the intensity of rainfall is already increasing flood risk 🌧️\n",
    "* flood damage shall increase by **170%** with a global **2°C warming** 🔥"
   ]
  },
  {
   "cell_type": "markdown",
   "metadata": {
    "slideshow": {
     "slide_type": "subslide"
    }
   },
   "source": [
    "From a data science perpective, flood prediction is not new. The [Journal of Hydrology](https://www.sciencedirect.com/journal/journal-of-hydrology) alone has over 5k publications about it over the last 20 years.\n",
    "\n",
    "Even Google has it's own AI model to predict daily flood. They've published their approach on a [paper](https://www.nature.com/articles/s41586-024-07145-1) in Nature, and made it online at the [Flood Hub](https://sites.research.google/floods/l/0/0/3) in 80+ countries."
   ]
  },
  {
   "cell_type": "markdown",
   "metadata": {
    "slideshow": {
     "slide_type": "fragment"
    }
   },
   "source": [
    "![google_flood_hub](google_flood_hub.jpg)"
   ]
  },
  {
   "cell_type": "markdown",
   "metadata": {
    "slideshow": {
     "slide_type": "subslide"
    }
   },
   "source": [
    "But all resources available about flooding are way too much technical, not suited for the mainstream.\n",
    "\n",
    "Could anyone quickly disgest this [data plot](https://app.powerbi.com/view?r=eyJrIjoiZTRjZDlmYjgtNzAzMS00ZTFmLTlmZDAtNzEwNjM0MDU0NTJhIiwidCI6ImUwYmI0MDEyLTgxMGItNDY5YS04YjRkLTY2N2ZjZDFiYWY4OCJ9) and make an informed \"fight-or-flight\" decision?"
   ]
  },
  {
   "cell_type": "markdown",
   "metadata": {
    "slideshow": {
     "slide_type": "fragment"
    }
   },
   "source": [
    "![guaiba_telemetry](guaiba_telemetry.jpg)"
   ]
  },
  {
   "cell_type": "markdown",
   "metadata": {
    "slideshow": {
     "slide_type": "subslide"
    }
   },
   "source": [
    "The driving questions of this idea are:\n",
    "* can a classification model be trained to predict flood from rainfall data?\n",
    "* how accurate could it be?\n",
    "* how for in advance could we predict a flood (e.g. 5-day)?\n",
    "* could we publish it in real-time in a easy-to-digest fashion?\n",
    "* does it make sense to communicate just as we do with weather forecast?"
   ]
  },
  {
   "cell_type": "markdown",
   "metadata": {
    "slideshow": {
     "slide_type": "subslide"
    }
   },
   "source": [
    "🎯 That's the goal!\n",
    "\n",
    "![flood_forecast_app](flood_forecast_app.jpg)"
   ]
  },
  {
   "cell_type": "markdown",
   "metadata": {
    "slideshow": {
     "slide_type": "slide"
    }
   },
   "source": [
    "## Viability analysis"
   ]
  },
  {
   "cell_type": "markdown",
   "metadata": {},
   "source": [
    "At minimum, to address this problem we need:\n",
    "* river stage data: the measure of how high (or low) the level of the river is, at a certain location, in reference to a ground-stable level, usually measured in cm\n",
    "* rainfall data: the amount of rainfall at a certain location, measured in a volumetric fashion but usually reported in mm\n",
    "\n",
    "Automated Telemetry Stations are the...\n",
    "\n",
    "Sampling rate...\n",
    "\n",
    "Frame the scope to RS...\n",
    "\n",
    "Talk about spatially distributed rainfall data (maybe a picture would help)"
   ]
  },
  {
   "cell_type": "code",
   "execution_count": 1,
   "metadata": {},
   "outputs": [
    {
     "data": {
      "text/html": [
       "<div>\n",
       "<style scoped>\n",
       "    .dataframe tbody tr th:only-of-type {\n",
       "        vertical-align: middle;\n",
       "    }\n",
       "\n",
       "    .dataframe tbody tr th {\n",
       "        vertical-align: top;\n",
       "    }\n",
       "\n",
       "    .dataframe thead th {\n",
       "        text-align: right;\n",
       "    }\n",
       "</style>\n",
       "<table border=\"1\" class=\"dataframe\">\n",
       "  <thead>\n",
       "    <tr style=\"text-align: right;\">\n",
       "      <th></th>\n",
       "      <th>stage_cm</th>\n",
       "      <th>discharge_cms</th>\n",
       "      <th>rainfall_mm</th>\n",
       "    </tr>\n",
       "  </thead>\n",
       "  <tbody>\n",
       "    <tr>\n",
       "      <th>2024-07-15 16:15:00</th>\n",
       "      <td>346.0</td>\n",
       "      <td>165.46</td>\n",
       "      <td>0.0</td>\n",
       "    </tr>\n",
       "    <tr>\n",
       "      <th>2024-07-15 16:00:00</th>\n",
       "      <td>346.0</td>\n",
       "      <td>165.46</td>\n",
       "      <td>0.0</td>\n",
       "    </tr>\n",
       "    <tr>\n",
       "      <th>2024-07-15 15:45:00</th>\n",
       "      <td>346.0</td>\n",
       "      <td>165.46</td>\n",
       "      <td>0.0</td>\n",
       "    </tr>\n",
       "    <tr>\n",
       "      <th>2024-07-15 15:30:00</th>\n",
       "      <td>346.0</td>\n",
       "      <td>165.46</td>\n",
       "      <td>0.0</td>\n",
       "    </tr>\n",
       "    <tr>\n",
       "      <th>2024-07-15 15:15:00</th>\n",
       "      <td>346.0</td>\n",
       "      <td>165.46</td>\n",
       "      <td>0.0</td>\n",
       "    </tr>\n",
       "    <tr>\n",
       "      <th>...</th>\n",
       "      <td>...</td>\n",
       "      <td>...</td>\n",
       "      <td>...</td>\n",
       "    </tr>\n",
       "    <tr>\n",
       "      <th>2018-01-08 14:15:00</th>\n",
       "      <td>357.0</td>\n",
       "      <td>NaN</td>\n",
       "      <td>0.0</td>\n",
       "    </tr>\n",
       "    <tr>\n",
       "      <th>2018-01-08 14:00:00</th>\n",
       "      <td>357.0</td>\n",
       "      <td>NaN</td>\n",
       "      <td>0.0</td>\n",
       "    </tr>\n",
       "    <tr>\n",
       "      <th>2018-01-08 13:45:00</th>\n",
       "      <td>357.0</td>\n",
       "      <td>NaN</td>\n",
       "      <td>0.0</td>\n",
       "    </tr>\n",
       "    <tr>\n",
       "      <th>2018-01-08 13:30:00</th>\n",
       "      <td>358.0</td>\n",
       "      <td>NaN</td>\n",
       "      <td>0.0</td>\n",
       "    </tr>\n",
       "    <tr>\n",
       "      <th>2018-01-08 13:15:00</th>\n",
       "      <td>358.0</td>\n",
       "      <td>NaN</td>\n",
       "      <td>NaN</td>\n",
       "    </tr>\n",
       "  </tbody>\n",
       "</table>\n",
       "<p>194678 rows × 3 columns</p>\n",
       "</div>"
      ],
      "text/plain": [
       "                     stage_cm  discharge_cms  rainfall_mm\n",
       "2024-07-15 16:15:00     346.0         165.46          0.0\n",
       "2024-07-15 16:00:00     346.0         165.46          0.0\n",
       "2024-07-15 15:45:00     346.0         165.46          0.0\n",
       "2024-07-15 15:30:00     346.0         165.46          0.0\n",
       "2024-07-15 15:15:00     346.0         165.46          0.0\n",
       "...                       ...            ...          ...\n",
       "2018-01-08 14:15:00     357.0            NaN          0.0\n",
       "2018-01-08 14:00:00     357.0            NaN          0.0\n",
       "2018-01-08 13:45:00     357.0            NaN          0.0\n",
       "2018-01-08 13:30:00     358.0            NaN          0.0\n",
       "2018-01-08 13:15:00     358.0            NaN          NaN\n",
       "\n",
       "[194678 rows x 3 columns]"
      ]
     },
     "execution_count": 1,
     "metadata": {},
     "output_type": "execute_result"
    }
   ],
   "source": [
    "import pandas as pd\n",
    "import requests\n",
    "import io\n",
    "\n",
    "# Get data from the API\n",
    "response = requests.get('https://saladesituacao.rs.gov.br/api/station/ana/sheet/87382000')\n",
    "\n",
    "# Convert the binary response to an excel file and pass it to a dataframe\n",
    "with io.BytesIO(response.content) as excel_file:\n",
    "    df = pd.io.excel.read_excel(\n",
    "        excel_file,\n",
    "        skiprows = 8,\n",
    "        names = ['stage_cm', 'discharge_cms', 'rainfall_mm'],\n",
    "        # converters = {'datetime': pd.to_datetime},\n",
    "        dtype = float,\n",
    "        index_col=0,\n",
    "        parse_dates=True\n",
    "    )\n",
    "\n",
    "df"
   ]
  },
  {
   "cell_type": "code",
   "execution_count": 2,
   "metadata": {},
   "outputs": [
    {
     "name": "stdout",
     "output_type": "stream",
     "text": [
      "<class 'pandas.core.frame.DataFrame'>\n",
      "DatetimeIndex: 194678 entries, 2024-07-15 16:15:00 to 2018-01-08 13:15:00\n",
      "Data columns (total 3 columns):\n",
      " #   Column         Non-Null Count   Dtype  \n",
      "---  ------         --------------   -----  \n",
      " 0   stage_cm       192285 non-null  float64\n",
      " 1   discharge_cms  143652 non-null  float64\n",
      " 2   rainfall_mm    194457 non-null  float64\n",
      "dtypes: float64(3)\n",
      "memory usage: 5.9 MB\n"
     ]
    }
   ],
   "source": [
    "df.info()"
   ]
  },
  {
   "cell_type": "code",
   "execution_count": 3,
   "metadata": {},
   "outputs": [
    {
     "data": {
      "text/html": [
       "<div>\n",
       "<style scoped>\n",
       "    .dataframe tbody tr th:only-of-type {\n",
       "        vertical-align: middle;\n",
       "    }\n",
       "\n",
       "    .dataframe tbody tr th {\n",
       "        vertical-align: top;\n",
       "    }\n",
       "\n",
       "    .dataframe thead th {\n",
       "        text-align: right;\n",
       "    }\n",
       "</style>\n",
       "<table border=\"1\" class=\"dataframe\">\n",
       "  <thead>\n",
       "    <tr style=\"text-align: right;\">\n",
       "      <th></th>\n",
       "      <th>stage_cm</th>\n",
       "      <th>discharge_cms</th>\n",
       "      <th>rainfall_mm</th>\n",
       "    </tr>\n",
       "  </thead>\n",
       "  <tbody>\n",
       "    <tr>\n",
       "      <th>count</th>\n",
       "      <td>16959.000000</td>\n",
       "      <td>16959.000000</td>\n",
       "      <td>16959.000000</td>\n",
       "    </tr>\n",
       "    <tr>\n",
       "      <th>mean</th>\n",
       "      <td>283.658117</td>\n",
       "      <td>246.696645</td>\n",
       "      <td>0.072787</td>\n",
       "    </tr>\n",
       "    <tr>\n",
       "      <th>std</th>\n",
       "      <td>184.663094</td>\n",
       "      <td>356.023986</td>\n",
       "      <td>0.494665</td>\n",
       "    </tr>\n",
       "    <tr>\n",
       "      <th>min</th>\n",
       "      <td>65.000000</td>\n",
       "      <td>14.310000</td>\n",
       "      <td>0.000000</td>\n",
       "    </tr>\n",
       "    <tr>\n",
       "      <th>25%</th>\n",
       "      <td>116.000000</td>\n",
       "      <td>28.870000</td>\n",
       "      <td>0.000000</td>\n",
       "    </tr>\n",
       "    <tr>\n",
       "      <th>50%</th>\n",
       "      <td>240.000000</td>\n",
       "      <td>95.770000</td>\n",
       "      <td>0.000000</td>\n",
       "    </tr>\n",
       "    <tr>\n",
       "      <th>75%</th>\n",
       "      <td>433.000000</td>\n",
       "      <td>354.920000</td>\n",
       "      <td>0.000000</td>\n",
       "    </tr>\n",
       "    <tr>\n",
       "      <th>max</th>\n",
       "      <td>800.000000</td>\n",
       "      <td>1865.000000</td>\n",
       "      <td>22.000000</td>\n",
       "    </tr>\n",
       "  </tbody>\n",
       "</table>\n",
       "</div>"
      ],
      "text/plain": [
       "           stage_cm  discharge_cms   rainfall_mm\n",
       "count  16959.000000   16959.000000  16959.000000\n",
       "mean     283.658117     246.696645      0.072787\n",
       "std      184.663094     356.023986      0.494665\n",
       "min       65.000000      14.310000      0.000000\n",
       "25%      116.000000      28.870000      0.000000\n",
       "50%      240.000000      95.770000      0.000000\n",
       "75%      433.000000     354.920000      0.000000\n",
       "max      800.000000    1865.000000     22.000000"
      ]
     },
     "execution_count": 3,
     "metadata": {},
     "output_type": "execute_result"
    }
   ],
   "source": [
    "# Get the first NaN stage value\n",
    "first_nan = df[df.stage_cm.isna()].index[0]\n",
    "\n",
    "# Subset a continuous stage time series\n",
    "subset = df[:first_nan].dropna()\n",
    "\n",
    "# Interpolate NaN discharg and rainfall\n",
    "subset.discharge_cms.interpolate(method='linear')\n",
    "subset.rainfall_mm.interpolate(method='linear')\n",
    "\n",
    "subset.describe()"
   ]
  },
  {
   "cell_type": "code",
   "execution_count": 4,
   "metadata": {},
   "outputs": [
    {
     "data": {
      "text/plain": [
       "Timedelta('340 days 23:15:00')"
      ]
     },
     "execution_count": 4,
     "metadata": {},
     "output_type": "execute_result"
    }
   ],
   "source": [
    "# Check for gaps in the time series\n",
    "max(subset.index) - min(subset.index)"
   ]
  },
  {
   "cell_type": "code",
   "execution_count": 5,
   "metadata": {},
   "outputs": [
    {
     "data": {
      "text/plain": [
       "Timedelta('176 days 15:45:00')"
      ]
     },
     "execution_count": 5,
     "metadata": {},
     "output_type": "execute_result"
    }
   ],
   "source": [
    "len(subset) * pd.to_timedelta('15 min')"
   ]
  }
 ],
 "metadata": {
  "kernelspec": {
   "display_name": "lewagon",
   "language": "python",
   "name": "python3"
  },
  "language_info": {
   "codemirror_mode": {
    "name": "ipython",
    "version": 3
   },
   "file_extension": ".py",
   "mimetype": "text/x-python",
   "name": "python",
   "nbconvert_exporter": "python",
   "pygments_lexer": "ipython3",
   "version": "3.10.6"
  }
 },
 "nbformat": 4,
 "nbformat_minor": 2
}
